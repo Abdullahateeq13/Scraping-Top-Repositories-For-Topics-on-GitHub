{
  "nbformat": 4,
  "nbformat_minor": 0,
  "metadata": {
    "colab": {
      "name": "Scraping Top Repositories for Topics on GitHub.ipynb",
      "provenance": [],
      "collapsed_sections": [],
      "mount_file_id": "1koq6SsaLeb-ca880kHt9Ncrb1S9DRZjz",
      "authorship_tag": "ABX9TyMgS48B2XDM1N8f3lWn52Ep",
      "include_colab_link": true
    },
    "kernelspec": {
      "name": "python3",
      "display_name": "Python 3"
    },
    "language_info": {
      "name": "python"
    }
  },
  "cells": [
    {
      "cell_type": "markdown",
      "metadata": {
        "id": "view-in-github",
        "colab_type": "text"
      },
      "source": [
        "<a href=\"https://colab.research.google.com/github/Abdullahateeq13/Abdullahateeq13/blob/main/Scraping_Top_Repositories_for_Topics_on_GitHub.ipynb\" target=\"_parent\"><img src=\"https://colab.research.google.com/assets/colab-badge.svg\" alt=\"Open In Colab\"/></a>"
      ]
    },
    {
      "cell_type": "markdown",
      "source": [
        "# Scraping Top Repositories for Topics on GitHub\n"
      ],
      "metadata": {
        "id": "AMF5ijJha1f8"
      }
    },
    {
      "cell_type": "markdown",
      "source": [
        "\n",
        "Here are the steps we'll follow:\n",
        "- We're going to scrape https://github.com/topics\n",
        "- We'll get a list of topics. For each topic, we'll get topic title, title page URL and topic description\n",
        "- For each topic, we'll get the top 25 repositiories in the topic from the topic page\n",
        "- For each repository, we'll grab the repo name, username, stars and repo URL\n",
        "- For each topic, we'll create a CSV file in the following format:\n",
        "\n",
        "  Repo Name,Username,Stars,Repo URL\n",
        "- three.js,mrdoob,69700,https://github.com/mrdoob/three.js\n",
        "- libgdx,libgdx,18300,https://github.com/libgdx/libgdx\n"
      ],
      "metadata": {
        "id": "AVy6hPQha_QE"
      }
    },
    {
      "cell_type": "markdown",
      "source": [
        "## Scrape the list of topics from GitHub\n",
        "\n",
        "Explain how you'll do it.\n",
        "- use requests to download the page\n",
        "- use bs4 to parse and extract info\n",
        "- convert to a pandas df\n",
        "\n",
        "Let's write a function to download the page."
      ],
      "metadata": {
        "id": "3YT3g-eGa_W2"
      }
    },
    {
      "cell_type": "code",
      "source": [
        "# Import Important Libraries\n",
        "\n",
        "import requests\n",
        "from bs4 import BeautifulSoup\n",
        "import pandas as pd\n",
        "\n",
        "url = 'https://github.com/topics'\n",
        "response = requests.get(url)\n",
        "response.status_code"
      ],
      "metadata": {
        "colab": {
          "base_uri": "https://localhost:8080/"
        },
        "id": "jP-x8JHmcp6f",
        "outputId": "fb113d64-ae4b-47cb-989b-19616fc244e0"
      },
      "execution_count": 1,
      "outputs": [
        {
          "output_type": "execute_result",
          "data": {
            "text/plain": [
              "200"
            ]
          },
          "metadata": {},
          "execution_count": 1
        }
      ]
    },
    {
      "cell_type": "code",
      "source": [
        "len(response.text)"
      ],
      "metadata": {
        "colab": {
          "base_uri": "https://localhost:8080/"
        },
        "id": "9D2wsSgDdamK",
        "outputId": "bf7d455e-786c-4e81-98d6-30879cac8cc1"
      },
      "execution_count": 2,
      "outputs": [
        {
          "output_type": "execute_result",
          "data": {
            "text/plain": [
              "144806"
            ]
          },
          "metadata": {},
          "execution_count": 2
        }
      ]
    },
    {
      "cell_type": "code",
      "source": [
        "page_contents = response.text\n",
        "page_contents[:1000]"
      ],
      "metadata": {
        "colab": {
          "base_uri": "https://localhost:8080/",
          "height": 192
        },
        "id": "Y-M4O87Adedq",
        "outputId": "933fbc17-1a21-4218-a9f5-211770c978c3"
      },
      "execution_count": 3,
      "outputs": [
        {
          "output_type": "execute_result",
          "data": {
            "text/plain": [
              "'\\n\\n<!DOCTYPE html>\\n<html lang=\"en\" data-color-mode=\"auto\" data-light-theme=\"light\" data-dark-theme=\"dark\" data-a11y-animated-images=\"system\">\\n  <head>\\n    <meta charset=\"utf-8\">\\n  <link rel=\"dns-prefetch\" href=\"https://github.githubassets.com\">\\n  <link rel=\"dns-prefetch\" href=\"https://avatars.githubusercontent.com\">\\n  <link rel=\"dns-prefetch\" href=\"https://github-cloud.s3.amazonaws.com\">\\n  <link rel=\"dns-prefetch\" href=\"https://user-images.githubusercontent.com/\">\\n  <link rel=\"preconnect\" href=\"https://github.githubassets.com\" crossorigin>\\n  <link rel=\"preconnect\" href=\"https://avatars.githubusercontent.com\">\\n\\n\\n\\n  <link crossorigin=\"anonymous\" media=\"all\" integrity=\"sha512-UXiu4O52iBFkqt6Kx5t+pqHYP2/LWWIw9+l5ia74TWw+xPzpH44BFfAQp7yzCe0XFGZa72Xiqyml6tox1KkUjw==\" rel=\"stylesheet\" href=\"https://github.githubassets.com/assets/light-5178aee0ee76.css\" /><link crossorigin=\"anonymous\" media=\"all\" integrity=\"sha512-IX1PnI5wWBz8Kgb1JI0f2QFa/WuRQQHJHe0vkKinQzsxRlNb4b8NgODX5htSZVAAkA1O6Vch+RRlDTI8j'"
            ],
            "application/vnd.google.colaboratory.intrinsic+json": {
              "type": "string"
            }
          },
          "metadata": {},
          "execution_count": 3
        }
      ]
    },
    {
      "cell_type": "code",
      "source": [
        "with open('website.html','w') as f:\n",
        "  f.write(page_contents)"
      ],
      "metadata": {
        "id": "op2DzWJbd0G5"
      },
      "execution_count": 4,
      "outputs": []
    },
    {
      "cell_type": "code",
      "source": [
        "soup = BeautifulSoup(response.text, 'html.parser')\n",
        "# print(soup.prettify())\n",
        "\n",
        "title_class = 'f3 lh-condensed mb-0 mt-1 Link--primary'\n",
        "topic_title = soup.find_all('p', {'class':title_class})\n",
        "# len(topic_title)\n",
        "topic_title[:5]\n"
      ],
      "metadata": {
        "colab": {
          "base_uri": "https://localhost:8080/"
        },
        "id": "Q1Yyi102fpvC",
        "outputId": "4ccee722-d53c-4398-9763-337ff53c9cb5"
      },
      "execution_count": 5,
      "outputs": [
        {
          "output_type": "execute_result",
          "data": {
            "text/plain": [
              "[<p class=\"f3 lh-condensed mb-0 mt-1 Link--primary\">3D</p>,\n",
              " <p class=\"f3 lh-condensed mb-0 mt-1 Link--primary\">Ajax</p>,\n",
              " <p class=\"f3 lh-condensed mb-0 mt-1 Link--primary\">Algorithm</p>,\n",
              " <p class=\"f3 lh-condensed mb-0 mt-1 Link--primary\">Amp</p>,\n",
              " <p class=\"f3 lh-condensed mb-0 mt-1 Link--primary\">Android</p>]"
            ]
          },
          "metadata": {},
          "execution_count": 5
        }
      ]
    },
    {
      "cell_type": "code",
      "source": [
        "desc_selector = \"f5 color-fg-muted mb-0 mt-1\"\n",
        "topic_desc = soup.find_all('p', {'class': desc_selector})\n",
        "\n",
        "topic_desc[:5]\n"
      ],
      "metadata": {
        "colab": {
          "base_uri": "https://localhost:8080/"
        },
        "id": "IEFRu06p2WVx",
        "outputId": "e9d8bd6b-327b-4726-d4f2-d4240611cb60"
      },
      "execution_count": 6,
      "outputs": [
        {
          "output_type": "execute_result",
          "data": {
            "text/plain": [
              "[<p class=\"f5 color-fg-muted mb-0 mt-1\">\n",
              "           3D modeling is the process of virtually developing the surface and structure of a 3D object.\n",
              "         </p>, <p class=\"f5 color-fg-muted mb-0 mt-1\">\n",
              "           Ajax is a technique for creating interactive web applications.\n",
              "         </p>, <p class=\"f5 color-fg-muted mb-0 mt-1\">\n",
              "           Algorithms are self-contained sequences that carry out a variety of tasks.\n",
              "         </p>, <p class=\"f5 color-fg-muted mb-0 mt-1\">\n",
              "           Amp is a non-blocking concurrency library for PHP.\n",
              "         </p>, <p class=\"f5 color-fg-muted mb-0 mt-1\">\n",
              "           Android is an operating system built by Google designed for mobile devices.\n",
              "         </p>]"
            ]
          },
          "metadata": {},
          "execution_count": 6
        }
      ]
    },
    {
      "cell_type": "code",
      "source": [
        "link_selector = 'no-underline flex-1 d-flex flex-column'\n",
        "topic_link = soup.find_all('a', link_selector)\n",
        "len(topic_link)\n",
        "topic_link[0]['href']"
      ],
      "metadata": {
        "colab": {
          "base_uri": "https://localhost:8080/",
          "height": 36
        },
        "id": "BOsgtvIv4TOD",
        "outputId": "e5cd36cd-495e-4b96-f10f-9a5ef8ffd2a5"
      },
      "execution_count": 7,
      "outputs": [
        {
          "output_type": "execute_result",
          "data": {
            "text/plain": [
              "'/topics/3d'"
            ],
            "application/vnd.google.colaboratory.intrinsic+json": {
              "type": "string"
            }
          },
          "metadata": {},
          "execution_count": 7
        }
      ]
    },
    {
      "cell_type": "code",
      "source": [
        "base_link = 'https://www.github.com'\n",
        "topic0_url = base_link + topic_link[0]['href']\n",
        "print(topic0_url)"
      ],
      "metadata": {
        "colab": {
          "base_uri": "https://localhost:8080/"
        },
        "id": "iRygPgTP5PEd",
        "outputId": "33f784a5-f460-479c-f57e-94b0f002e0d7"
      },
      "execution_count": 8,
      "outputs": [
        {
          "output_type": "stream",
          "name": "stdout",
          "text": [
            "https://www.github.com/topics/3d\n"
          ]
        }
      ]
    },
    {
      "cell_type": "code",
      "source": [
        "# List of Titles\n",
        "topic_titles = []\n",
        "for tag in topic_title:\n",
        "  topic_titles.append(tag.text)\n",
        "print(topic_titles)"
      ],
      "metadata": {
        "colab": {
          "base_uri": "https://localhost:8080/"
        },
        "id": "36SwYs8o6H98",
        "outputId": "fe39802a-ab73-4d03-c01b-5d33466eccf3"
      },
      "execution_count": 9,
      "outputs": [
        {
          "output_type": "stream",
          "name": "stdout",
          "text": [
            "['3D', 'Ajax', 'Algorithm', 'Amp', 'Android', 'Angular', 'Ansible', 'API', 'Arduino', 'ASP.NET', 'Atom', 'Awesome Lists', 'Amazon Web Services', 'Azure', 'Babel', 'Bash', 'Bitcoin', 'Bootstrap', 'Bot', 'C', 'Chrome', 'Chrome extension', 'Command line interface', 'Clojure', 'Code quality', 'Code review', 'Compiler', 'Continuous integration', 'COVID-19', 'C++']\n"
          ]
        }
      ]
    },
    {
      "cell_type": "code",
      "source": [
        "# List of Descriptions\n",
        "topic_descriptions = []\n",
        "\n",
        "for desc in topic_desc:\n",
        "  topic_descriptions.append(desc.text.strip())\n",
        "\n",
        "print(topic_descriptions[:3])"
      ],
      "metadata": {
        "colab": {
          "base_uri": "https://localhost:8080/"
        },
        "id": "wiN9JdRC6uir",
        "outputId": "ce12ef90-e362-4c6e-d871-175da86cc4c3"
      },
      "execution_count": 10,
      "outputs": [
        {
          "output_type": "stream",
          "name": "stdout",
          "text": [
            "['3D modeling is the process of virtually developing the surface and structure of a 3D object.', 'Ajax is a technique for creating interactive web applications.', 'Algorithms are self-contained sequences that carry out a variety of tasks.']\n"
          ]
        }
      ]
    },
    {
      "cell_type": "code",
      "source": [
        "# List of all topic URLs\n",
        "topic_urls = []\n",
        "\n",
        "for url in topic_link:\n",
        "  topic_urls.append(base_link + url['href'])\n",
        "print(topic_urls)"
      ],
      "metadata": {
        "colab": {
          "base_uri": "https://localhost:8080/"
        },
        "id": "UPOJNIJR7GvX",
        "outputId": "ecc62f9a-d7c8-45b3-b092-a69106997e7b"
      },
      "execution_count": 11,
      "outputs": [
        {
          "output_type": "stream",
          "name": "stdout",
          "text": [
            "['https://www.github.com/topics/3d', 'https://www.github.com/topics/ajax', 'https://www.github.com/topics/algorithm', 'https://www.github.com/topics/amphp', 'https://www.github.com/topics/android', 'https://www.github.com/topics/angular', 'https://www.github.com/topics/ansible', 'https://www.github.com/topics/api', 'https://www.github.com/topics/arduino', 'https://www.github.com/topics/aspnet', 'https://www.github.com/topics/atom', 'https://www.github.com/topics/awesome', 'https://www.github.com/topics/aws', 'https://www.github.com/topics/azure', 'https://www.github.com/topics/babel', 'https://www.github.com/topics/bash', 'https://www.github.com/topics/bitcoin', 'https://www.github.com/topics/bootstrap', 'https://www.github.com/topics/bot', 'https://www.github.com/topics/c', 'https://www.github.com/topics/chrome', 'https://www.github.com/topics/chrome-extension', 'https://www.github.com/topics/cli', 'https://www.github.com/topics/clojure', 'https://www.github.com/topics/code-quality', 'https://www.github.com/topics/code-review', 'https://www.github.com/topics/compiler', 'https://www.github.com/topics/continuous-integration', 'https://www.github.com/topics/covid-19', 'https://www.github.com/topics/cpp']\n"
          ]
        }
      ]
    },
    {
      "cell_type": "code",
      "source": [
        "topics_dict = { \n",
        "    \n",
        "    'Title' : topic_titles,\n",
        "    'Descriptions': topic_descriptions,\n",
        "    'URL': topic_urls\n",
        "}"
      ],
      "metadata": {
        "id": "ycbpTdLt7lls"
      },
      "execution_count": 12,
      "outputs": []
    },
    {
      "cell_type": "code",
      "source": [
        "topics_df = pd.DataFrame(topics_dict)"
      ],
      "metadata": {
        "id": "MEd-tneQBfsc"
      },
      "execution_count": 13,
      "outputs": []
    },
    {
      "cell_type": "code",
      "source": [
        "topics_df"
      ],
      "metadata": {
        "colab": {
          "base_uri": "https://localhost:8080/",
          "height": 1000
        },
        "id": "J1JC2-1RBlvJ",
        "outputId": "283039ff-9cf3-4cf5-cc91-8160f913f516"
      },
      "execution_count": 14,
      "outputs": [
        {
          "output_type": "execute_result",
          "data": {
            "text/plain": [
              "                     Title                                       Descriptions  \\\n",
              "0                       3D  3D modeling is the process of virtually develo...   \n",
              "1                     Ajax  Ajax is a technique for creating interactive w...   \n",
              "2                Algorithm  Algorithms are self-contained sequences that c...   \n",
              "3                      Amp  Amp is a non-blocking concurrency library for ...   \n",
              "4                  Android  Android is an operating system built by Google...   \n",
              "5                  Angular  Angular is an open source web application plat...   \n",
              "6                  Ansible  Ansible is a simple and powerful automation en...   \n",
              "7                      API  An API (Application Programming Interface) is ...   \n",
              "8                  Arduino  Arduino is an open source hardware and softwar...   \n",
              "9                  ASP.NET  ASP.NET is a web framework for building modern...   \n",
              "10                    Atom  Atom is a open source text editor built with w...   \n",
              "11           Awesome Lists  An awesome list is a list of awesome things cu...   \n",
              "12     Amazon Web Services  Amazon Web Services provides on-demand cloud c...   \n",
              "13                   Azure  Azure is a cloud computing service created by ...   \n",
              "14                   Babel  Babel is a compiler for writing next generatio...   \n",
              "15                    Bash  Bash is a shell and command language interpret...   \n",
              "16                 Bitcoin  Bitcoin is a cryptocurrency developed by Satos...   \n",
              "17               Bootstrap  Bootstrap is an HTML, CSS, and JavaScript fram...   \n",
              "18                     Bot  A bot is an application that runs automated ta...   \n",
              "19                       C  C is a general purpose programming language th...   \n",
              "20                  Chrome  Chrome is a web browser from the tech company ...   \n",
              "21        Chrome extension  Chrome extensions enable users to customize th...   \n",
              "22  Command line interface  A CLI, or command-line interface, is a console...   \n",
              "23                 Clojure  Clojure is a dynamic, general-purpose programm...   \n",
              "24            Code quality  Automate your code review with style, quality,...   \n",
              "25             Code review  Ensure your code meets quality standards and s...   \n",
              "26                Compiler  Compilers are software that translate higher-l...   \n",
              "27  Continuous integration  Automatically build and test your code as you ...   \n",
              "28                COVID-19  The coronavirus disease 2019 (COVID-19) is an ...   \n",
              "29                     C++  C++ is a general purpose and object-oriented p...   \n",
              "\n",
              "                                                  URL  \n",
              "0                    https://www.github.com/topics/3d  \n",
              "1                  https://www.github.com/topics/ajax  \n",
              "2             https://www.github.com/topics/algorithm  \n",
              "3                 https://www.github.com/topics/amphp  \n",
              "4               https://www.github.com/topics/android  \n",
              "5               https://www.github.com/topics/angular  \n",
              "6               https://www.github.com/topics/ansible  \n",
              "7                   https://www.github.com/topics/api  \n",
              "8               https://www.github.com/topics/arduino  \n",
              "9                https://www.github.com/topics/aspnet  \n",
              "10                 https://www.github.com/topics/atom  \n",
              "11              https://www.github.com/topics/awesome  \n",
              "12                  https://www.github.com/topics/aws  \n",
              "13                https://www.github.com/topics/azure  \n",
              "14                https://www.github.com/topics/babel  \n",
              "15                 https://www.github.com/topics/bash  \n",
              "16              https://www.github.com/topics/bitcoin  \n",
              "17            https://www.github.com/topics/bootstrap  \n",
              "18                  https://www.github.com/topics/bot  \n",
              "19                    https://www.github.com/topics/c  \n",
              "20               https://www.github.com/topics/chrome  \n",
              "21     https://www.github.com/topics/chrome-extension  \n",
              "22                  https://www.github.com/topics/cli  \n",
              "23              https://www.github.com/topics/clojure  \n",
              "24         https://www.github.com/topics/code-quality  \n",
              "25          https://www.github.com/topics/code-review  \n",
              "26             https://www.github.com/topics/compiler  \n",
              "27  https://www.github.com/topics/continuous-integ...  \n",
              "28             https://www.github.com/topics/covid-19  \n",
              "29                  https://www.github.com/topics/cpp  "
            ],
            "text/html": [
              "\n",
              "  <div id=\"df-cbc9f722-3113-4cfb-9d16-d58daabfb33e\">\n",
              "    <div class=\"colab-df-container\">\n",
              "      <div>\n",
              "<style scoped>\n",
              "    .dataframe tbody tr th:only-of-type {\n",
              "        vertical-align: middle;\n",
              "    }\n",
              "\n",
              "    .dataframe tbody tr th {\n",
              "        vertical-align: top;\n",
              "    }\n",
              "\n",
              "    .dataframe thead th {\n",
              "        text-align: right;\n",
              "    }\n",
              "</style>\n",
              "<table border=\"1\" class=\"dataframe\">\n",
              "  <thead>\n",
              "    <tr style=\"text-align: right;\">\n",
              "      <th></th>\n",
              "      <th>Title</th>\n",
              "      <th>Descriptions</th>\n",
              "      <th>URL</th>\n",
              "    </tr>\n",
              "  </thead>\n",
              "  <tbody>\n",
              "    <tr>\n",
              "      <th>0</th>\n",
              "      <td>3D</td>\n",
              "      <td>3D modeling is the process of virtually develo...</td>\n",
              "      <td>https://www.github.com/topics/3d</td>\n",
              "    </tr>\n",
              "    <tr>\n",
              "      <th>1</th>\n",
              "      <td>Ajax</td>\n",
              "      <td>Ajax is a technique for creating interactive w...</td>\n",
              "      <td>https://www.github.com/topics/ajax</td>\n",
              "    </tr>\n",
              "    <tr>\n",
              "      <th>2</th>\n",
              "      <td>Algorithm</td>\n",
              "      <td>Algorithms are self-contained sequences that c...</td>\n",
              "      <td>https://www.github.com/topics/algorithm</td>\n",
              "    </tr>\n",
              "    <tr>\n",
              "      <th>3</th>\n",
              "      <td>Amp</td>\n",
              "      <td>Amp is a non-blocking concurrency library for ...</td>\n",
              "      <td>https://www.github.com/topics/amphp</td>\n",
              "    </tr>\n",
              "    <tr>\n",
              "      <th>4</th>\n",
              "      <td>Android</td>\n",
              "      <td>Android is an operating system built by Google...</td>\n",
              "      <td>https://www.github.com/topics/android</td>\n",
              "    </tr>\n",
              "    <tr>\n",
              "      <th>5</th>\n",
              "      <td>Angular</td>\n",
              "      <td>Angular is an open source web application plat...</td>\n",
              "      <td>https://www.github.com/topics/angular</td>\n",
              "    </tr>\n",
              "    <tr>\n",
              "      <th>6</th>\n",
              "      <td>Ansible</td>\n",
              "      <td>Ansible is a simple and powerful automation en...</td>\n",
              "      <td>https://www.github.com/topics/ansible</td>\n",
              "    </tr>\n",
              "    <tr>\n",
              "      <th>7</th>\n",
              "      <td>API</td>\n",
              "      <td>An API (Application Programming Interface) is ...</td>\n",
              "      <td>https://www.github.com/topics/api</td>\n",
              "    </tr>\n",
              "    <tr>\n",
              "      <th>8</th>\n",
              "      <td>Arduino</td>\n",
              "      <td>Arduino is an open source hardware and softwar...</td>\n",
              "      <td>https://www.github.com/topics/arduino</td>\n",
              "    </tr>\n",
              "    <tr>\n",
              "      <th>9</th>\n",
              "      <td>ASP.NET</td>\n",
              "      <td>ASP.NET is a web framework for building modern...</td>\n",
              "      <td>https://www.github.com/topics/aspnet</td>\n",
              "    </tr>\n",
              "    <tr>\n",
              "      <th>10</th>\n",
              "      <td>Atom</td>\n",
              "      <td>Atom is a open source text editor built with w...</td>\n",
              "      <td>https://www.github.com/topics/atom</td>\n",
              "    </tr>\n",
              "    <tr>\n",
              "      <th>11</th>\n",
              "      <td>Awesome Lists</td>\n",
              "      <td>An awesome list is a list of awesome things cu...</td>\n",
              "      <td>https://www.github.com/topics/awesome</td>\n",
              "    </tr>\n",
              "    <tr>\n",
              "      <th>12</th>\n",
              "      <td>Amazon Web Services</td>\n",
              "      <td>Amazon Web Services provides on-demand cloud c...</td>\n",
              "      <td>https://www.github.com/topics/aws</td>\n",
              "    </tr>\n",
              "    <tr>\n",
              "      <th>13</th>\n",
              "      <td>Azure</td>\n",
              "      <td>Azure is a cloud computing service created by ...</td>\n",
              "      <td>https://www.github.com/topics/azure</td>\n",
              "    </tr>\n",
              "    <tr>\n",
              "      <th>14</th>\n",
              "      <td>Babel</td>\n",
              "      <td>Babel is a compiler for writing next generatio...</td>\n",
              "      <td>https://www.github.com/topics/babel</td>\n",
              "    </tr>\n",
              "    <tr>\n",
              "      <th>15</th>\n",
              "      <td>Bash</td>\n",
              "      <td>Bash is a shell and command language interpret...</td>\n",
              "      <td>https://www.github.com/topics/bash</td>\n",
              "    </tr>\n",
              "    <tr>\n",
              "      <th>16</th>\n",
              "      <td>Bitcoin</td>\n",
              "      <td>Bitcoin is a cryptocurrency developed by Satos...</td>\n",
              "      <td>https://www.github.com/topics/bitcoin</td>\n",
              "    </tr>\n",
              "    <tr>\n",
              "      <th>17</th>\n",
              "      <td>Bootstrap</td>\n",
              "      <td>Bootstrap is an HTML, CSS, and JavaScript fram...</td>\n",
              "      <td>https://www.github.com/topics/bootstrap</td>\n",
              "    </tr>\n",
              "    <tr>\n",
              "      <th>18</th>\n",
              "      <td>Bot</td>\n",
              "      <td>A bot is an application that runs automated ta...</td>\n",
              "      <td>https://www.github.com/topics/bot</td>\n",
              "    </tr>\n",
              "    <tr>\n",
              "      <th>19</th>\n",
              "      <td>C</td>\n",
              "      <td>C is a general purpose programming language th...</td>\n",
              "      <td>https://www.github.com/topics/c</td>\n",
              "    </tr>\n",
              "    <tr>\n",
              "      <th>20</th>\n",
              "      <td>Chrome</td>\n",
              "      <td>Chrome is a web browser from the tech company ...</td>\n",
              "      <td>https://www.github.com/topics/chrome</td>\n",
              "    </tr>\n",
              "    <tr>\n",
              "      <th>21</th>\n",
              "      <td>Chrome extension</td>\n",
              "      <td>Chrome extensions enable users to customize th...</td>\n",
              "      <td>https://www.github.com/topics/chrome-extension</td>\n",
              "    </tr>\n",
              "    <tr>\n",
              "      <th>22</th>\n",
              "      <td>Command line interface</td>\n",
              "      <td>A CLI, or command-line interface, is a console...</td>\n",
              "      <td>https://www.github.com/topics/cli</td>\n",
              "    </tr>\n",
              "    <tr>\n",
              "      <th>23</th>\n",
              "      <td>Clojure</td>\n",
              "      <td>Clojure is a dynamic, general-purpose programm...</td>\n",
              "      <td>https://www.github.com/topics/clojure</td>\n",
              "    </tr>\n",
              "    <tr>\n",
              "      <th>24</th>\n",
              "      <td>Code quality</td>\n",
              "      <td>Automate your code review with style, quality,...</td>\n",
              "      <td>https://www.github.com/topics/code-quality</td>\n",
              "    </tr>\n",
              "    <tr>\n",
              "      <th>25</th>\n",
              "      <td>Code review</td>\n",
              "      <td>Ensure your code meets quality standards and s...</td>\n",
              "      <td>https://www.github.com/topics/code-review</td>\n",
              "    </tr>\n",
              "    <tr>\n",
              "      <th>26</th>\n",
              "      <td>Compiler</td>\n",
              "      <td>Compilers are software that translate higher-l...</td>\n",
              "      <td>https://www.github.com/topics/compiler</td>\n",
              "    </tr>\n",
              "    <tr>\n",
              "      <th>27</th>\n",
              "      <td>Continuous integration</td>\n",
              "      <td>Automatically build and test your code as you ...</td>\n",
              "      <td>https://www.github.com/topics/continuous-integ...</td>\n",
              "    </tr>\n",
              "    <tr>\n",
              "      <th>28</th>\n",
              "      <td>COVID-19</td>\n",
              "      <td>The coronavirus disease 2019 (COVID-19) is an ...</td>\n",
              "      <td>https://www.github.com/topics/covid-19</td>\n",
              "    </tr>\n",
              "    <tr>\n",
              "      <th>29</th>\n",
              "      <td>C++</td>\n",
              "      <td>C++ is a general purpose and object-oriented p...</td>\n",
              "      <td>https://www.github.com/topics/cpp</td>\n",
              "    </tr>\n",
              "  </tbody>\n",
              "</table>\n",
              "</div>\n",
              "      <button class=\"colab-df-convert\" onclick=\"convertToInteractive('df-cbc9f722-3113-4cfb-9d16-d58daabfb33e')\"\n",
              "              title=\"Convert this dataframe to an interactive table.\"\n",
              "              style=\"display:none;\">\n",
              "        \n",
              "  <svg xmlns=\"http://www.w3.org/2000/svg\" height=\"24px\"viewBox=\"0 0 24 24\"\n",
              "       width=\"24px\">\n",
              "    <path d=\"M0 0h24v24H0V0z\" fill=\"none\"/>\n",
              "    <path d=\"M18.56 5.44l.94 2.06.94-2.06 2.06-.94-2.06-.94-.94-2.06-.94 2.06-2.06.94zm-11 1L8.5 8.5l.94-2.06 2.06-.94-2.06-.94L8.5 2.5l-.94 2.06-2.06.94zm10 10l.94 2.06.94-2.06 2.06-.94-2.06-.94-.94-2.06-.94 2.06-2.06.94z\"/><path d=\"M17.41 7.96l-1.37-1.37c-.4-.4-.92-.59-1.43-.59-.52 0-1.04.2-1.43.59L10.3 9.45l-7.72 7.72c-.78.78-.78 2.05 0 2.83L4 21.41c.39.39.9.59 1.41.59.51 0 1.02-.2 1.41-.59l7.78-7.78 2.81-2.81c.8-.78.8-2.07 0-2.86zM5.41 20L4 18.59l7.72-7.72 1.47 1.35L5.41 20z\"/>\n",
              "  </svg>\n",
              "      </button>\n",
              "      \n",
              "  <style>\n",
              "    .colab-df-container {\n",
              "      display:flex;\n",
              "      flex-wrap:wrap;\n",
              "      gap: 12px;\n",
              "    }\n",
              "\n",
              "    .colab-df-convert {\n",
              "      background-color: #E8F0FE;\n",
              "      border: none;\n",
              "      border-radius: 50%;\n",
              "      cursor: pointer;\n",
              "      display: none;\n",
              "      fill: #1967D2;\n",
              "      height: 32px;\n",
              "      padding: 0 0 0 0;\n",
              "      width: 32px;\n",
              "    }\n",
              "\n",
              "    .colab-df-convert:hover {\n",
              "      background-color: #E2EBFA;\n",
              "      box-shadow: 0px 1px 2px rgba(60, 64, 67, 0.3), 0px 1px 3px 1px rgba(60, 64, 67, 0.15);\n",
              "      fill: #174EA6;\n",
              "    }\n",
              "\n",
              "    [theme=dark] .colab-df-convert {\n",
              "      background-color: #3B4455;\n",
              "      fill: #D2E3FC;\n",
              "    }\n",
              "\n",
              "    [theme=dark] .colab-df-convert:hover {\n",
              "      background-color: #434B5C;\n",
              "      box-shadow: 0px 1px 3px 1px rgba(0, 0, 0, 0.15);\n",
              "      filter: drop-shadow(0px 1px 2px rgba(0, 0, 0, 0.3));\n",
              "      fill: #FFFFFF;\n",
              "    }\n",
              "  </style>\n",
              "\n",
              "      <script>\n",
              "        const buttonEl =\n",
              "          document.querySelector('#df-cbc9f722-3113-4cfb-9d16-d58daabfb33e button.colab-df-convert');\n",
              "        buttonEl.style.display =\n",
              "          google.colab.kernel.accessAllowed ? 'block' : 'none';\n",
              "\n",
              "        async function convertToInteractive(key) {\n",
              "          const element = document.querySelector('#df-cbc9f722-3113-4cfb-9d16-d58daabfb33e');\n",
              "          const dataTable =\n",
              "            await google.colab.kernel.invokeFunction('convertToInteractive',\n",
              "                                                     [key], {});\n",
              "          if (!dataTable) return;\n",
              "\n",
              "          const docLinkHtml = 'Like what you see? Visit the ' +\n",
              "            '<a target=\"_blank\" href=https://colab.research.google.com/notebooks/data_table.ipynb>data table notebook</a>'\n",
              "            + ' to learn more about interactive tables.';\n",
              "          element.innerHTML = '';\n",
              "          dataTable['output_type'] = 'display_data';\n",
              "          await google.colab.output.renderOutput(dataTable, element);\n",
              "          const docLink = document.createElement('div');\n",
              "          docLink.innerHTML = docLinkHtml;\n",
              "          element.appendChild(docLink);\n",
              "        }\n",
              "      </script>\n",
              "    </div>\n",
              "  </div>\n",
              "  "
            ]
          },
          "metadata": {},
          "execution_count": 14
        }
      ]
    },
    {
      "cell_type": "code",
      "source": [
        "topics_df.to_csv('topics.csv',index=None)"
      ],
      "metadata": {
        "id": "RpLbTPpJBoFN"
      },
      "execution_count": 15,
      "outputs": []
    },
    {
      "cell_type": "code",
      "source": [
        ""
      ],
      "metadata": {
        "id": "i_fPjGtlB1Pn"
      },
      "execution_count": 15,
      "outputs": []
    },
    {
      "cell_type": "markdown",
      "source": [
        "## Getting information out of Topic page"
      ],
      "metadata": {
        "id": "LMw-MKCJFC9Z"
      }
    },
    {
      "cell_type": "code",
      "source": [
        "topic_page_url = topic_urls[0]\n",
        "\n",
        "topic_page_url"
      ],
      "metadata": {
        "colab": {
          "base_uri": "https://localhost:8080/",
          "height": 36
        },
        "id": "PuEsyG7XFM9P",
        "outputId": "031db6a8-5bc6-4f44-9e98-a3e750f3ce0b"
      },
      "execution_count": 16,
      "outputs": [
        {
          "output_type": "execute_result",
          "data": {
            "text/plain": [
              "'https://www.github.com/topics/3d'"
            ],
            "application/vnd.google.colaboratory.intrinsic+json": {
              "type": "string"
            }
          },
          "metadata": {},
          "execution_count": 16
        }
      ]
    },
    {
      "cell_type": "code",
      "source": [
        "resp = requests.get(topic_page_url)"
      ],
      "metadata": {
        "id": "XxVVnZfFHBz5"
      },
      "execution_count": 17,
      "outputs": []
    },
    {
      "cell_type": "code",
      "source": [
        "resp.status_code\n"
      ],
      "metadata": {
        "colab": {
          "base_uri": "https://localhost:8080/"
        },
        "id": "cX3ZYzlMHLS6",
        "outputId": "9c843554-54e5-4de3-f13c-754e5cbb8893"
      },
      "execution_count": 18,
      "outputs": [
        {
          "output_type": "execute_result",
          "data": {
            "text/plain": [
              "200"
            ]
          },
          "metadata": {},
          "execution_count": 18
        }
      ]
    },
    {
      "cell_type": "code",
      "source": [
        "len(resp.text)"
      ],
      "metadata": {
        "colab": {
          "base_uri": "https://localhost:8080/"
        },
        "id": "1BTeyWAtHNrW",
        "outputId": "28629f05-7089-447e-c9fe-21adaffcd9c3"
      },
      "execution_count": 19,
      "outputs": [
        {
          "output_type": "execute_result",
          "data": {
            "text/plain": [
              "435528"
            ]
          },
          "metadata": {},
          "execution_count": 19
        }
      ]
    },
    {
      "cell_type": "code",
      "source": [
        "soup1 = BeautifulSoup(resp.text, 'html.parser')\n",
        "# print(soup1)\n",
        "selection_class = 'f3 color-fg-muted text-normal lh-condensed'\n",
        "repo_tags = soup1.find_all('h3',{'class':selection_class})\n"
      ],
      "metadata": {
        "id": "YHVYLq8mHQd6"
      },
      "execution_count": 20,
      "outputs": []
    },
    {
      "cell_type": "code",
      "source": [
        "repo_tags[0]"
      ],
      "metadata": {
        "colab": {
          "base_uri": "https://localhost:8080/"
        },
        "id": "7Tr84Cu1HiP4",
        "outputId": "3570bc9b-1ead-42a4-ed76-3850bf07eeda"
      },
      "execution_count": 21,
      "outputs": [
        {
          "output_type": "execute_result",
          "data": {
            "text/plain": [
              "<h3 class=\"f3 color-fg-muted text-normal lh-condensed\">\n",
              "<a data-hydro-click='{\"event_type\":\"explore.click\",\"payload\":{\"click_context\":\"REPOSITORY_CARD\",\"click_target\":\"OWNER\",\"click_visual_representation\":\"REPOSITORY_OWNER_HEADING\",\"actor_id\":null,\"record_id\":97088,\"originating_url\":\"https://github.com/topics/3d\",\"user_id\":null}}' data-hydro-click-hmac=\"4bdbc49d3c05ae7f70b531fbce709a384200b0768554e0172950286a8db30940\" data-turbo=\"false\" data-view-component=\"true\" href=\"/mrdoob\">\n",
              "            mrdoob\n",
              "</a>          /\n",
              "          <a class=\"text-bold wb-break-word\" data-hydro-click='{\"event_type\":\"explore.click\",\"payload\":{\"click_context\":\"REPOSITORY_CARD\",\"click_target\":\"REPOSITORY\",\"click_visual_representation\":\"REPOSITORY_NAME_HEADING\",\"actor_id\":null,\"record_id\":576201,\"originating_url\":\"https://github.com/topics/3d\",\"user_id\":null}}' data-hydro-click-hmac=\"517d3d5cb9d89752156923904a4238816bc9b51ab7772f3e3644ce897d8dd4e5\" data-turbo=\"false\" data-view-component=\"true\" href=\"/mrdoob/three.js\">\n",
              "            three.js\n",
              "</a> </h3>"
            ]
          },
          "metadata": {},
          "execution_count": 21
        }
      ]
    },
    {
      "cell_type": "code",
      "source": [
        "len(repo_tags)"
      ],
      "metadata": {
        "colab": {
          "base_uri": "https://localhost:8080/"
        },
        "id": "WvnP5OhDIXS0",
        "outputId": "69243a0e-a476-4270-f6d6-f6a212a9d881"
      },
      "execution_count": 22,
      "outputs": [
        {
          "output_type": "execute_result",
          "data": {
            "text/plain": [
              "20"
            ]
          },
          "metadata": {},
          "execution_count": 22
        }
      ]
    },
    {
      "cell_type": "code",
      "source": [
        "a_tags = repo_tags[2].find_all('a')\n"
      ],
      "metadata": {
        "id": "yZMkpRSRIdNl"
      },
      "execution_count": 23,
      "outputs": []
    },
    {
      "cell_type": "code",
      "source": [
        "a_tags[0].text.strip()"
      ],
      "metadata": {
        "colab": {
          "base_uri": "https://localhost:8080/",
          "height": 36
        },
        "id": "PEU5GRIGInUf",
        "outputId": "de838f24-33af-4233-83cc-c4104e999aad"
      },
      "execution_count": 24,
      "outputs": [
        {
          "output_type": "execute_result",
          "data": {
            "text/plain": [
              "'pmndrs'"
            ],
            "application/vnd.google.colaboratory.intrinsic+json": {
              "type": "string"
            }
          },
          "metadata": {},
          "execution_count": 24
        }
      ]
    },
    {
      "cell_type": "code",
      "source": [
        "a_tags[1].text.strip()"
      ],
      "metadata": {
        "colab": {
          "base_uri": "https://localhost:8080/",
          "height": 36
        },
        "id": "dgUWOEjFIof_",
        "outputId": "83f49c73-9732-4b3a-ccd0-f8857528a56d"
      },
      "execution_count": 25,
      "outputs": [
        {
          "output_type": "execute_result",
          "data": {
            "text/plain": [
              "'react-three-fiber'"
            ],
            "application/vnd.google.colaboratory.intrinsic+json": {
              "type": "string"
            }
          },
          "metadata": {},
          "execution_count": 25
        }
      ]
    },
    {
      "cell_type": "code",
      "source": [
        "base_url = 'https://www.github.com'\n",
        "repo_url = base_url + a_tags[1]['href']\n",
        "print(repo_url)"
      ],
      "metadata": {
        "colab": {
          "base_uri": "https://localhost:8080/"
        },
        "id": "G3TIkC1XIvob",
        "outputId": "39423f57-4388-498c-df0a-1acb25679930"
      },
      "execution_count": 26,
      "outputs": [
        {
          "output_type": "stream",
          "name": "stdout",
          "text": [
            "https://www.github.com/pmndrs/react-three-fiber\n"
          ]
        }
      ]
    },
    {
      "cell_type": "code",
      "source": [
        "# class_selector = 'tooltipped tooltipped-s btn-sm btn BtnGroup-item color-bg-default'\n",
        "star_tags = soup1.find_all('span', {'class':'Counter js-social-count'})\n"
      ],
      "metadata": {
        "id": "AUrD8bfEJDOT"
      },
      "execution_count": 27,
      "outputs": []
    },
    {
      "cell_type": "code",
      "source": [
        "len(star_tags)"
      ],
      "metadata": {
        "colab": {
          "base_uri": "https://localhost:8080/"
        },
        "id": "kA74xaM0KR7d",
        "outputId": "79d6b935-cf55-44b2-c248-55d3b775e0f1"
      },
      "execution_count": 28,
      "outputs": [
        {
          "output_type": "execute_result",
          "data": {
            "text/plain": [
              "20"
            ]
          },
          "metadata": {},
          "execution_count": 28
        }
      ]
    },
    {
      "cell_type": "code",
      "source": [
        "star_tags[0]"
      ],
      "metadata": {
        "colab": {
          "base_uri": "https://localhost:8080/"
        },
        "id": "yS3S9_0BKTSw",
        "outputId": "898cdd7a-f672-4706-a393-cc6effd4ebba"
      },
      "execution_count": 29,
      "outputs": [
        {
          "output_type": "execute_result",
          "data": {
            "text/plain": [
              "<span aria-label=\"84557 users starred this repository\" class=\"Counter js-social-count\" data-pjax-replace=\"true\" data-plural-suffix=\"users starred this repository\" data-singular-suffix=\"user starred this repository\" data-turbo-replace=\"true\" data-view-component=\"true\" id=\"repo-stars-counter-star\" title=\"84,557\">84.6k</span>"
            ]
          },
          "metadata": {},
          "execution_count": 29
        }
      ]
    },
    {
      "cell_type": "code",
      "source": [
        "star_tags[0].text"
      ],
      "metadata": {
        "colab": {
          "base_uri": "https://localhost:8080/",
          "height": 36
        },
        "id": "Hig9xBOpNxer",
        "outputId": "5f7493d5-4c83-487e-fd0f-7889a92f79f9"
      },
      "execution_count": 30,
      "outputs": [
        {
          "output_type": "execute_result",
          "data": {
            "text/plain": [
              "'84.6k'"
            ],
            "application/vnd.google.colaboratory.intrinsic+json": {
              "type": "string"
            }
          },
          "metadata": {},
          "execution_count": 30
        }
      ]
    },
    {
      "cell_type": "code",
      "source": [
        "def parse_star_count(stars_str):\n",
        "  stars_str = stars_str.strip()\n",
        "  if stars_str[-1] == 'k':\n",
        "    return int(float(stars_str[:-1]) * 1000)\n",
        "  return int(stars_str)\n",
        "    \n",
        "  "
      ],
      "metadata": {
        "id": "NjV-vDUFN485"
      },
      "execution_count": 31,
      "outputs": []
    },
    {
      "cell_type": "code",
      "source": [
        "parse_star_count(star_tags[0].text)"
      ],
      "metadata": {
        "colab": {
          "base_uri": "https://localhost:8080/"
        },
        "id": "StWdRn-mPQzT",
        "outputId": "20eee73b-e9a0-4062-9759-41804ce21798"
      },
      "execution_count": 32,
      "outputs": [
        {
          "output_type": "execute_result",
          "data": {
            "text/plain": [
              "84600"
            ]
          },
          "metadata": {},
          "execution_count": 32
        }
      ]
    },
    {
      "cell_type": "code",
      "source": [
        "# <----- Practice for making funtions --------->\n",
        "stars_str = '84.2k'\n",
        "# stars_str.strip()\n",
        "# stars_str[-1]\n",
        "int(float(stars_str[:-1]) * 1000)"
      ],
      "metadata": {
        "colab": {
          "base_uri": "https://localhost:8080/"
        },
        "id": "jDGONOXJOF3B",
        "outputId": "d238155a-36e4-4a82-90f9-853df5fe7074"
      },
      "execution_count": 33,
      "outputs": [
        {
          "output_type": "execute_result",
          "data": {
            "text/plain": [
              "84200"
            ]
          },
          "metadata": {},
          "execution_count": 33
        }
      ]
    },
    {
      "cell_type": "code",
      "source": [
        "star_tags[1]['title']"
      ],
      "metadata": {
        "colab": {
          "base_uri": "https://localhost:8080/",
          "height": 36
        },
        "id": "8HqTK7opKWlF",
        "outputId": "822e45ea-a531-4307-8832-7154ef14c517"
      },
      "execution_count": 34,
      "outputs": [
        {
          "output_type": "execute_result",
          "data": {
            "text/plain": [
              "'20,358'"
            ],
            "application/vnd.google.colaboratory.intrinsic+json": {
              "type": "string"
            }
          },
          "metadata": {},
          "execution_count": 34
        }
      ]
    },
    {
      "cell_type": "code",
      "source": [
        "# Making Funtions \n",
        "\n",
        "def get_repo_info(h1,star):\n",
        "  a_tags = h1.find_all('a')\n",
        "  username = a_tags[0].text.strip()\n",
        "  repo_name = a_tags[1].text.strip()\n",
        "  repository_url = base_url + a_tags[1]['href']\n",
        "  stars = star['title']\n",
        "  return username, repo_name, stars , repository_url"
      ],
      "metadata": {
        "id": "3fK-oCgmLNMD"
      },
      "execution_count": 35,
      "outputs": []
    },
    {
      "cell_type": "code",
      "source": [
        "get_repo_info(repo_tags[1],star_tags[1])"
      ],
      "metadata": {
        "colab": {
          "base_uri": "https://localhost:8080/"
        },
        "id": "x1o0xpwpYa0g",
        "outputId": "2fd1fad8-c0ee-462c-85fa-d98d25fefff4"
      },
      "execution_count": 36,
      "outputs": [
        {
          "output_type": "execute_result",
          "data": {
            "text/plain": [
              "('libgdx', 'libgdx', '20,358', 'https://www.github.com/libgdx/libgdx')"
            ]
          },
          "metadata": {},
          "execution_count": 36
        }
      ]
    },
    {
      "cell_type": "code",
      "source": [
        "topic_repos_dict = {\n",
        "    \n",
        "    'username': [],\n",
        "    'repo_name': [],\n",
        "    'stars': [],\n",
        "    'repo_url': []\n",
        "}\n",
        "\n",
        "for i in range(len(repo_tags)):\n",
        "  repo_info = get_repo_info(repo_tags[i],star_tags[i])\n",
        "  topic_repos_dict['username'].append(repo_info[0])\n",
        "  topic_repos_dict['repo_name'].append(repo_info[1])\n",
        "  topic_repos_dict['stars'].append(repo_info[2])\n",
        "  topic_repos_dict['repo_url'].append(repo_info[3])\n"
      ],
      "metadata": {
        "id": "XeO3v-xaTXWj"
      },
      "execution_count": 37,
      "outputs": []
    },
    {
      "cell_type": "code",
      "source": [
        "repo_info"
      ],
      "metadata": {
        "colab": {
          "base_uri": "https://localhost:8080/"
        },
        "id": "S6D2q30gUa3Z",
        "outputId": "660d2561-63cb-4471-b262-17a11348cc5b"
      },
      "execution_count": 38,
      "outputs": [
        {
          "output_type": "execute_result",
          "data": {
            "text/plain": [
              "('YadiraF', 'PRNet', '4,672', 'https://www.github.com/YadiraF/PRNet')"
            ]
          },
          "metadata": {},
          "execution_count": 38
        }
      ]
    },
    {
      "cell_type": "code",
      "source": [
        "topic_repos_df = pd.DataFrame(topic_repos_dict)\n",
        "topic_repos_df"
      ],
      "metadata": {
        "colab": {
          "base_uri": "https://localhost:8080/",
          "height": 676
        },
        "id": "KFmMI2q6U9g9",
        "outputId": "0a19d557-9537-4a8b-856d-24cf6c88dcfb"
      },
      "execution_count": 39,
      "outputs": [
        {
          "output_type": "execute_result",
          "data": {
            "text/plain": [
              "            username                      repo_name   stars  \\\n",
              "0             mrdoob                       three.js  84,557   \n",
              "1             libgdx                         libgdx  20,358   \n",
              "2             pmndrs              react-three-fiber  19,185   \n",
              "3          BabylonJS                     Babylon.js  18,162   \n",
              "4           aframevr                         aframe  14,458   \n",
              "5              ssloy                   tinyrenderer  14,457   \n",
              "6            lettier  3d-game-shaders-for-beginners  13,530   \n",
              "7            FreeCAD                        FreeCAD  11,971   \n",
              "8          metafizzy                           zdog   9,298   \n",
              "9           CesiumGS                         cesium   9,098   \n",
              "10       timzhang642            3D-Machine-Learning   8,175   \n",
              "11           isl-org                         Open3D   7,272   \n",
              "12      a1studmuffin             SpaceshipGenerator   7,195   \n",
              "13           blender                        blender   6,329   \n",
              "14           domlysz                     BlenderGIS   5,517   \n",
              "15          spritejs                       spritejs   4,950   \n",
              "16          openscad                       openscad   4,945   \n",
              "17           jagenjo                 webglstudio.js   4,693   \n",
              "18  tensorspace-team                    tensorspace   4,692   \n",
              "19           YadiraF                          PRNet   4,672   \n",
              "\n",
              "                                             repo_url  \n",
              "0              https://www.github.com/mrdoob/three.js  \n",
              "1                https://www.github.com/libgdx/libgdx  \n",
              "2     https://www.github.com/pmndrs/react-three-fiber  \n",
              "3         https://www.github.com/BabylonJS/Babylon.js  \n",
              "4              https://www.github.com/aframevr/aframe  \n",
              "5           https://www.github.com/ssloy/tinyrenderer  \n",
              "6   https://www.github.com/lettier/3d-game-shaders...  \n",
              "7              https://www.github.com/FreeCAD/FreeCAD  \n",
              "8               https://www.github.com/metafizzy/zdog  \n",
              "9              https://www.github.com/CesiumGS/cesium  \n",
              "10  https://www.github.com/timzhang642/3D-Machine-...  \n",
              "11              https://www.github.com/isl-org/Open3D  \n",
              "12  https://www.github.com/a1studmuffin/SpaceshipG...  \n",
              "13             https://www.github.com/blender/blender  \n",
              "14          https://www.github.com/domlysz/BlenderGIS  \n",
              "15           https://www.github.com/spritejs/spritejs  \n",
              "16           https://www.github.com/openscad/openscad  \n",
              "17      https://www.github.com/jagenjo/webglstudio.js  \n",
              "18  https://www.github.com/tensorspace-team/tensor...  \n",
              "19               https://www.github.com/YadiraF/PRNet  "
            ],
            "text/html": [
              "\n",
              "  <div id=\"df-8c7d3e68-5322-4537-b840-9e98cc5f5c1c\">\n",
              "    <div class=\"colab-df-container\">\n",
              "      <div>\n",
              "<style scoped>\n",
              "    .dataframe tbody tr th:only-of-type {\n",
              "        vertical-align: middle;\n",
              "    }\n",
              "\n",
              "    .dataframe tbody tr th {\n",
              "        vertical-align: top;\n",
              "    }\n",
              "\n",
              "    .dataframe thead th {\n",
              "        text-align: right;\n",
              "    }\n",
              "</style>\n",
              "<table border=\"1\" class=\"dataframe\">\n",
              "  <thead>\n",
              "    <tr style=\"text-align: right;\">\n",
              "      <th></th>\n",
              "      <th>username</th>\n",
              "      <th>repo_name</th>\n",
              "      <th>stars</th>\n",
              "      <th>repo_url</th>\n",
              "    </tr>\n",
              "  </thead>\n",
              "  <tbody>\n",
              "    <tr>\n",
              "      <th>0</th>\n",
              "      <td>mrdoob</td>\n",
              "      <td>three.js</td>\n",
              "      <td>84,557</td>\n",
              "      <td>https://www.github.com/mrdoob/three.js</td>\n",
              "    </tr>\n",
              "    <tr>\n",
              "      <th>1</th>\n",
              "      <td>libgdx</td>\n",
              "      <td>libgdx</td>\n",
              "      <td>20,358</td>\n",
              "      <td>https://www.github.com/libgdx/libgdx</td>\n",
              "    </tr>\n",
              "    <tr>\n",
              "      <th>2</th>\n",
              "      <td>pmndrs</td>\n",
              "      <td>react-three-fiber</td>\n",
              "      <td>19,185</td>\n",
              "      <td>https://www.github.com/pmndrs/react-three-fiber</td>\n",
              "    </tr>\n",
              "    <tr>\n",
              "      <th>3</th>\n",
              "      <td>BabylonJS</td>\n",
              "      <td>Babylon.js</td>\n",
              "      <td>18,162</td>\n",
              "      <td>https://www.github.com/BabylonJS/Babylon.js</td>\n",
              "    </tr>\n",
              "    <tr>\n",
              "      <th>4</th>\n",
              "      <td>aframevr</td>\n",
              "      <td>aframe</td>\n",
              "      <td>14,458</td>\n",
              "      <td>https://www.github.com/aframevr/aframe</td>\n",
              "    </tr>\n",
              "    <tr>\n",
              "      <th>5</th>\n",
              "      <td>ssloy</td>\n",
              "      <td>tinyrenderer</td>\n",
              "      <td>14,457</td>\n",
              "      <td>https://www.github.com/ssloy/tinyrenderer</td>\n",
              "    </tr>\n",
              "    <tr>\n",
              "      <th>6</th>\n",
              "      <td>lettier</td>\n",
              "      <td>3d-game-shaders-for-beginners</td>\n",
              "      <td>13,530</td>\n",
              "      <td>https://www.github.com/lettier/3d-game-shaders...</td>\n",
              "    </tr>\n",
              "    <tr>\n",
              "      <th>7</th>\n",
              "      <td>FreeCAD</td>\n",
              "      <td>FreeCAD</td>\n",
              "      <td>11,971</td>\n",
              "      <td>https://www.github.com/FreeCAD/FreeCAD</td>\n",
              "    </tr>\n",
              "    <tr>\n",
              "      <th>8</th>\n",
              "      <td>metafizzy</td>\n",
              "      <td>zdog</td>\n",
              "      <td>9,298</td>\n",
              "      <td>https://www.github.com/metafizzy/zdog</td>\n",
              "    </tr>\n",
              "    <tr>\n",
              "      <th>9</th>\n",
              "      <td>CesiumGS</td>\n",
              "      <td>cesium</td>\n",
              "      <td>9,098</td>\n",
              "      <td>https://www.github.com/CesiumGS/cesium</td>\n",
              "    </tr>\n",
              "    <tr>\n",
              "      <th>10</th>\n",
              "      <td>timzhang642</td>\n",
              "      <td>3D-Machine-Learning</td>\n",
              "      <td>8,175</td>\n",
              "      <td>https://www.github.com/timzhang642/3D-Machine-...</td>\n",
              "    </tr>\n",
              "    <tr>\n",
              "      <th>11</th>\n",
              "      <td>isl-org</td>\n",
              "      <td>Open3D</td>\n",
              "      <td>7,272</td>\n",
              "      <td>https://www.github.com/isl-org/Open3D</td>\n",
              "    </tr>\n",
              "    <tr>\n",
              "      <th>12</th>\n",
              "      <td>a1studmuffin</td>\n",
              "      <td>SpaceshipGenerator</td>\n",
              "      <td>7,195</td>\n",
              "      <td>https://www.github.com/a1studmuffin/SpaceshipG...</td>\n",
              "    </tr>\n",
              "    <tr>\n",
              "      <th>13</th>\n",
              "      <td>blender</td>\n",
              "      <td>blender</td>\n",
              "      <td>6,329</td>\n",
              "      <td>https://www.github.com/blender/blender</td>\n",
              "    </tr>\n",
              "    <tr>\n",
              "      <th>14</th>\n",
              "      <td>domlysz</td>\n",
              "      <td>BlenderGIS</td>\n",
              "      <td>5,517</td>\n",
              "      <td>https://www.github.com/domlysz/BlenderGIS</td>\n",
              "    </tr>\n",
              "    <tr>\n",
              "      <th>15</th>\n",
              "      <td>spritejs</td>\n",
              "      <td>spritejs</td>\n",
              "      <td>4,950</td>\n",
              "      <td>https://www.github.com/spritejs/spritejs</td>\n",
              "    </tr>\n",
              "    <tr>\n",
              "      <th>16</th>\n",
              "      <td>openscad</td>\n",
              "      <td>openscad</td>\n",
              "      <td>4,945</td>\n",
              "      <td>https://www.github.com/openscad/openscad</td>\n",
              "    </tr>\n",
              "    <tr>\n",
              "      <th>17</th>\n",
              "      <td>jagenjo</td>\n",
              "      <td>webglstudio.js</td>\n",
              "      <td>4,693</td>\n",
              "      <td>https://www.github.com/jagenjo/webglstudio.js</td>\n",
              "    </tr>\n",
              "    <tr>\n",
              "      <th>18</th>\n",
              "      <td>tensorspace-team</td>\n",
              "      <td>tensorspace</td>\n",
              "      <td>4,692</td>\n",
              "      <td>https://www.github.com/tensorspace-team/tensor...</td>\n",
              "    </tr>\n",
              "    <tr>\n",
              "      <th>19</th>\n",
              "      <td>YadiraF</td>\n",
              "      <td>PRNet</td>\n",
              "      <td>4,672</td>\n",
              "      <td>https://www.github.com/YadiraF/PRNet</td>\n",
              "    </tr>\n",
              "  </tbody>\n",
              "</table>\n",
              "</div>\n",
              "      <button class=\"colab-df-convert\" onclick=\"convertToInteractive('df-8c7d3e68-5322-4537-b840-9e98cc5f5c1c')\"\n",
              "              title=\"Convert this dataframe to an interactive table.\"\n",
              "              style=\"display:none;\">\n",
              "        \n",
              "  <svg xmlns=\"http://www.w3.org/2000/svg\" height=\"24px\"viewBox=\"0 0 24 24\"\n",
              "       width=\"24px\">\n",
              "    <path d=\"M0 0h24v24H0V0z\" fill=\"none\"/>\n",
              "    <path d=\"M18.56 5.44l.94 2.06.94-2.06 2.06-.94-2.06-.94-.94-2.06-.94 2.06-2.06.94zm-11 1L8.5 8.5l.94-2.06 2.06-.94-2.06-.94L8.5 2.5l-.94 2.06-2.06.94zm10 10l.94 2.06.94-2.06 2.06-.94-2.06-.94-.94-2.06-.94 2.06-2.06.94z\"/><path d=\"M17.41 7.96l-1.37-1.37c-.4-.4-.92-.59-1.43-.59-.52 0-1.04.2-1.43.59L10.3 9.45l-7.72 7.72c-.78.78-.78 2.05 0 2.83L4 21.41c.39.39.9.59 1.41.59.51 0 1.02-.2 1.41-.59l7.78-7.78 2.81-2.81c.8-.78.8-2.07 0-2.86zM5.41 20L4 18.59l7.72-7.72 1.47 1.35L5.41 20z\"/>\n",
              "  </svg>\n",
              "      </button>\n",
              "      \n",
              "  <style>\n",
              "    .colab-df-container {\n",
              "      display:flex;\n",
              "      flex-wrap:wrap;\n",
              "      gap: 12px;\n",
              "    }\n",
              "\n",
              "    .colab-df-convert {\n",
              "      background-color: #E8F0FE;\n",
              "      border: none;\n",
              "      border-radius: 50%;\n",
              "      cursor: pointer;\n",
              "      display: none;\n",
              "      fill: #1967D2;\n",
              "      height: 32px;\n",
              "      padding: 0 0 0 0;\n",
              "      width: 32px;\n",
              "    }\n",
              "\n",
              "    .colab-df-convert:hover {\n",
              "      background-color: #E2EBFA;\n",
              "      box-shadow: 0px 1px 2px rgba(60, 64, 67, 0.3), 0px 1px 3px 1px rgba(60, 64, 67, 0.15);\n",
              "      fill: #174EA6;\n",
              "    }\n",
              "\n",
              "    [theme=dark] .colab-df-convert {\n",
              "      background-color: #3B4455;\n",
              "      fill: #D2E3FC;\n",
              "    }\n",
              "\n",
              "    [theme=dark] .colab-df-convert:hover {\n",
              "      background-color: #434B5C;\n",
              "      box-shadow: 0px 1px 3px 1px rgba(0, 0, 0, 0.15);\n",
              "      filter: drop-shadow(0px 1px 2px rgba(0, 0, 0, 0.3));\n",
              "      fill: #FFFFFF;\n",
              "    }\n",
              "  </style>\n",
              "\n",
              "      <script>\n",
              "        const buttonEl =\n",
              "          document.querySelector('#df-8c7d3e68-5322-4537-b840-9e98cc5f5c1c button.colab-df-convert');\n",
              "        buttonEl.style.display =\n",
              "          google.colab.kernel.accessAllowed ? 'block' : 'none';\n",
              "\n",
              "        async function convertToInteractive(key) {\n",
              "          const element = document.querySelector('#df-8c7d3e68-5322-4537-b840-9e98cc5f5c1c');\n",
              "          const dataTable =\n",
              "            await google.colab.kernel.invokeFunction('convertToInteractive',\n",
              "                                                     [key], {});\n",
              "          if (!dataTable) return;\n",
              "\n",
              "          const docLinkHtml = 'Like what you see? Visit the ' +\n",
              "            '<a target=\"_blank\" href=https://colab.research.google.com/notebooks/data_table.ipynb>data table notebook</a>'\n",
              "            + ' to learn more about interactive tables.';\n",
              "          element.innerHTML = '';\n",
              "          dataTable['output_type'] = 'display_data';\n",
              "          await google.colab.output.renderOutput(dataTable, element);\n",
              "          const docLink = document.createElement('div');\n",
              "          docLink.innerHTML = docLinkHtml;\n",
              "          element.appendChild(docLink);\n",
              "        }\n",
              "      </script>\n",
              "    </div>\n",
              "  </div>\n",
              "  "
            ]
          },
          "metadata": {},
          "execution_count": 39
        }
      ]
    },
    {
      "cell_type": "code",
      "source": [
        "topic_repos_csv = topic_repos_df.to_csv('topic_repos.csv',index=None)"
      ],
      "metadata": {
        "id": "NVA6A8tWWS1K"
      },
      "execution_count": 40,
      "outputs": []
    },
    {
      "cell_type": "markdown",
      "source": [
        "# Final Code"
      ],
      "metadata": {
        "id": "934GRbGAfWPl"
      }
    },
    {
      "cell_type": "code",
      "source": [
        "# Making Functions\n",
        "import os\n",
        "\n",
        "def get_topic_page(topics_url):\n",
        "    # Download the page\n",
        "    response = requests.get(topics_url)\n",
        "    # Check successful response\n",
        "    if response.status_code != 200:\n",
        "        raise Exception('Failed to load page {}'.format(topics_url))\n",
        "    # Parse using Beautiful soup\n",
        "    s1 = BeautifulSoup(response.text, 'html.parser')\n",
        "    return s1\n",
        "\n",
        "def get_repo_info(h1,star):\n",
        "  a_tags = h1.find_all('a')\n",
        "  username = a_tags[0].text.strip()\n",
        "  repo_name = a_tags[1].text.strip()\n",
        "  repository_url = base_url + a_tags[1]['href']\n",
        "  stars = star['title']\n",
        "  return username, repo_name, stars , repository_url\n",
        "\n",
        "def get_topic_repos(s1):\n",
        "  # Get h3 tags containing repo_title, repo URL and username\n",
        "  selection_class = 'f3 color-fg-muted text-normal lh-condensed'\n",
        "  repo_tags = s1.find_all('h3',{'class':selection_class})\n",
        "\n",
        "  # Get Star tag\n",
        "  star_tags = s1.find_all('span', {'class':'Counter js-social-count'})\n",
        "\n",
        "  topic_repos_dict = {\n",
        "      \n",
        "      'username': [],\n",
        "      'repo_name': [],\n",
        "      'stars': [],\n",
        "      'repo_url': []\n",
        "  }\n",
        "\n",
        "  for i in range(len(repo_tags)):\n",
        "    repo_info = get_repo_info(repo_tags[i],star_tags[i])\n",
        "    topic_repos_dict['username'].append(repo_info[0])\n",
        "    topic_repos_dict['repo_name'].append(repo_info[1])\n",
        "    topic_repos_dict['stars'].append(repo_info[2])\n",
        "    topic_repos_dict['repo_url'].append(repo_info[3])\n",
        "  \n",
        "  return pd.DataFrame(topic_repos_dict)\n",
        "\n",
        "def scrape_topic(topics_url, path):\n",
        "  if os.path.exists(path):\n",
        "    print('The file {} already exists. Skipping....'.format(path))\n",
        "    return\n",
        "  topics_dataframe = get_topic_repos(get_topic_page(topics_url))\n",
        "  topics_dataframe.to_csv(path ,index = None)\n"
      ],
      "metadata": {
        "id": "wdW9v7B2aO36"
      },
      "execution_count": 46,
      "outputs": []
    },
    {
      "cell_type": "markdown",
      "source": [
        "Write a single function to:\n",
        "1. Get the list of topics from the topics page.\n",
        "2. Get the list of top repos from the individual topic pages.\n",
        "3. For each topic, create a CSV of the top repos for the topic.\n"
      ],
      "metadata": {
        "id": "yx7cly4RxMdo"
      }
    },
    {
      "cell_type": "code",
      "source": [
        "def get_topic_titles(soup):\n",
        "  title_class = 'f3 lh-condensed mb-0 mt-1 Link--primary'\n",
        "  topic_title = soup.find_all('p', {'class':title_class})\n",
        "  \n",
        "  topic_titles = []\n",
        "  for tag in topic_title:\n",
        "    topic_titles.append(tag.text)\n",
        "  return topic_titles\n",
        "\n",
        "def get_topic_descriptions(soup):\n",
        "  desc_selector = \"f5 color-fg-muted mb-0 mt-1\"\n",
        "  topic_desc = soup.find_all('p', {'class': desc_selector})\n",
        "  \n",
        "  topic_descriptions = []\n",
        "  for desc in topic_desc:\n",
        "    topic_descriptions.append(desc.text.strip())\n",
        "  return topic_descriptions\n",
        "\n",
        "\n",
        "def get_topic_urls(soup):\n",
        "  link_selector = 'no-underline flex-1 d-flex flex-column'\n",
        "  topic_link = soup.find_all('a', link_selector)\n",
        "  base_link = 'https://www.github.com'\n",
        "  topic0_url = base_link + topic_link[0]['href']\n",
        "  \n",
        "  topic_urls = []\n",
        "  for url in topic_link:\n",
        "    topic_urls.append(base_link + url['href'])\n",
        "  return topic_urls\n",
        "\n",
        "def scrape_topics():\n",
        "  url = 'https://github.com/topics'\n",
        "  response = requests.get(url)\n",
        "  if response.status_code != 200:\n",
        "    raise Exception(\"Failed to load page {}\".format(url))\n",
        "\n",
        "  soup = BeautifulSoup(response.text, 'html.parser')\n",
        "\n",
        "  topics_dict = { \n",
        "    \n",
        "    'Title' : get_topic_titles(soup),\n",
        "    'Descriptions': get_topic_descriptions(soup),\n",
        "    'URL': get_topic_urls(soup)\n",
        "  }\n",
        "  return pd.DataFrame(topics_dict)\n"
      ],
      "metadata": {
        "id": "Voy2XkySzkwj"
      },
      "execution_count": 47,
      "outputs": []
    },
    {
      "cell_type": "code",
      "source": [
        "def scrape_topics_repos():\n",
        "  print('Scraping list of topics')\n",
        "  topics_df = scrape_topics()\n",
        "\n",
        "  os.makedirs('data', exist_ok = True)\n",
        "\n",
        "  for index, row in topics_df.iterrows():\n",
        "    print('Scraping top repositories for \"{}\"'.format(row['Title']))\n",
        "    scrape_topic(row['URL'], 'data/{}.csv'.format(row['Title']))"
      ],
      "metadata": {
        "id": "7K_plBgkz0kA"
      },
      "execution_count": 49,
      "outputs": []
    },
    {
      "cell_type": "code",
      "source": [
        "scrape_topics_repos()"
      ],
      "metadata": {
        "id": "rP094FF2-GAw",
        "colab": {
          "base_uri": "https://localhost:8080/"
        },
        "outputId": "b577a47f-cea5-4498-818e-78cccb2e7322"
      },
      "execution_count": 50,
      "outputs": [
        {
          "output_type": "stream",
          "name": "stdout",
          "text": [
            "Scraping list of topics\n",
            "Scraping top repositories for \"3D\"\n",
            "Scraping top repositories for \"Ajax\"\n",
            "Scraping top repositories for \"Algorithm\"\n",
            "Scraping top repositories for \"Amp\"\n",
            "Scraping top repositories for \"Android\"\n",
            "Scraping top repositories for \"Angular\"\n",
            "Scraping top repositories for \"Ansible\"\n",
            "Scraping top repositories for \"API\"\n",
            "Scraping top repositories for \"Arduino\"\n",
            "Scraping top repositories for \"ASP.NET\"\n",
            "Scraping top repositories for \"Atom\"\n",
            "Scraping top repositories for \"Awesome Lists\"\n",
            "Scraping top repositories for \"Amazon Web Services\"\n",
            "Scraping top repositories for \"Azure\"\n",
            "Scraping top repositories for \"Babel\"\n",
            "Scraping top repositories for \"Bash\"\n",
            "Scraping top repositories for \"Bitcoin\"\n",
            "Scraping top repositories for \"Bootstrap\"\n",
            "Scraping top repositories for \"Bot\"\n",
            "Scraping top repositories for \"C\"\n",
            "Scraping top repositories for \"Chrome\"\n",
            "Scraping top repositories for \"Chrome extension\"\n",
            "Scraping top repositories for \"Command line interface\"\n",
            "Scraping top repositories for \"Clojure\"\n",
            "Scraping top repositories for \"Code quality\"\n",
            "Scraping top repositories for \"Code review\"\n",
            "Scraping top repositories for \"Compiler\"\n",
            "Scraping top repositories for \"Continuous integration\"\n",
            "Scraping top repositories for \"COVID-19\"\n",
            "Scraping top repositories for \"C++\"\n"
          ]
        }
      ]
    },
    {
      "cell_type": "code",
      "source": [
        ""
      ],
      "metadata": {
        "id": "Zg9EfbR26yg0"
      },
      "execution_count": null,
      "outputs": []
    }
  ]
}